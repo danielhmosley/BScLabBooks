{
 "cells": [
  {
   "cell_type": "code",
   "execution_count": 1,
   "metadata": {
    "collapsed": true
   },
   "outputs": [],
   "source": [
    "#import \n",
    "%matplotlib inline\n",
    "import matplotlib.pyplot as plt\n",
    "import numpy as np\n",
    "import os"
   ]
  },
  {
   "cell_type": "code",
   "execution_count": 2,
   "metadata": {
    "collapsed": true
   },
   "outputs": [],
   "source": [
    "#Set funcitons and their quations to be used later\n",
    "def charge_on_C(qa,qb):\n",
    "    qc = -(qa+qb)/3\n",
    "    return qc    \n",
    "\n",
    "#Set the function shell charge \n",
    "def shell_charge(qa,qb):\n",
    "    qc = -(qa+qb)/3\n",
    "    qsc = qc - 0.378\n",
    "    return qsc\n",
    "\n",
    "#Set the function of the spring constant\n",
    "def spring(qsc):\n",
    "    ksc = qsc**2/0.078\n",
    "    return ksc\n",
    "\n",
    "\n"
   ]
  },
  {
   "cell_type": "code",
   "execution_count": 3,
   "metadata": {
    "collapsed": false
   },
   "outputs": [
    {
     "data": {
      "text/plain": [
       "array([ 0.5,  0.6,  0.7,  0.8,  0.9,  1. ,  1.1,  1.2,  1.3,  1.4,  1.5])"
      ]
     },
     "execution_count": 3,
     "metadata": {},
     "output_type": "execute_result"
    }
   ],
   "source": [
    "#Set energy values of atom B to go between parameters 1.5->2.5\n",
    "qa = np.arange(0.5,1.6,0.1)\n",
    "qa"
   ]
  },
  {
   "cell_type": "code",
   "execution_count": 4,
   "metadata": {
    "collapsed": false
   },
   "outputs": [
    {
     "data": {
      "text/plain": [
       "array([ 1.5,  1.6,  1.7,  1.8,  1.9,  2. ,  2.1,  2.2,  2.3,  2.4,  2.5])"
      ]
     },
     "execution_count": 4,
     "metadata": {},
     "output_type": "execute_result"
    }
   ],
   "source": [
    "#Set energy values of atom B to go between parameters 1.5->2.5\n",
    "qb = np.arange(1.5,2.6,0.1)\n",
    "qb"
   ]
  },
  {
   "cell_type": "code",
   "execution_count": 5,
   "metadata": {
    "collapsed": true
   },
   "outputs": [],
   "source": [
    "#turn the above data into a list of [qa,qb,qsc,ksc]\n",
    "mylist = []\n",
    "\n",
    "for A in qa:\n",
    "    for B in qb:\n",
    "        qsc = shell_charge(A,B)\n",
    "        ksc = spring(qsc)\n",
    "        \n",
    "        mylist.append([A,B,qsc,ksc])\n",
    "\n",
    "mylist = [item[0:4] for item in mylist]\n",
    "\n",
    "\n"
   ]
  },
  {
   "cell_type": "code",
   "execution_count": 6,
   "metadata": {
    "collapsed": false
   },
   "outputs": [],
   "source": [
    "#Start a new loop so that you can have a single file for each of the variable qa/qb states, \n",
    "#Using \"w\" to write the file\n",
    "#Then fill in each line with the \n",
    "\n",
    "for item in mylist:\n",
    "    filename = open('167-Input-qa-%3.1f-qb-%3.1f.txt' %(item[0],item[1]), 'w')\n",
    "    filename.write(\"opti prop cellonly \\n\")\n",
    "    filename.write(\"cell \\n\")\n",
    "    filename.write(\"6.0798 6.0798 14.7681 90.000 90.000 120.000 \\n\")\n",
    "    filename.write(\"frac \\n\")\n",
    "    filename.write(\"Tb  core     0.00000  0.00000  0.00000 \\n\")\n",
    "#    filename.write(\"Tb  core     0.50000  0.50000  0.50000 \\n\")\n",
    "    \n",
    "    filename.write(\"Ba  core     0.0000 0.0000  0.2500  \\n\")\n",
    "#    filename.write(\"Ba  core     0.75000  0.75000  0.75000  \\n\")\n",
    "    \n",
    "    filename.write(\"O   core     0.4624   0.0000   0.2500  \\n\")\n",
    "#    filename.write(\"O   core     0.28760  0.21240  0.75000  \\n\")\n",
    "#    filename.write(\"O   core     0.25000  0.71240  0.78760  \\n\")\n",
    "#    filename.write(\"O   core     0.75000  0.28760  0.21240  \\n\")\n",
    "#    filename.write(\"O   core     0.78760  0.25000  0.71240  \\n\")\n",
    "#    filename.write(\"O   core     0.21240  0.75000  0.28760  \\n\")  \n",
    "\n",
    "    filename.write(\"O   shel     0.4624   0.0000   0.2500  \\n\")\n",
    " \n",
    "    \n",
    "    filename.write(\"space \\n\")\n",
    "    filename.write(\"167 \\n\")\n",
    "    filename.write(\"species \\n\")\n",
    "    filename.write(\"Tb  core %10.1f \\n\" % item[0])\n",
    "    filename.write(\"Ba  core %10.1f \\n\" % (item[1]))\n",
    "    filename.write(\"O   core 0.378 \\n\")\n",
    "    filename.write(\"O   shel %18.12f \\n\" % (item[2]))\n",
    "    filename.write(\"buckingham \\n\")\n",
    "    filename.write(\"Ba  core Ba core   2189.190 0.1916   0.00 0.0 30.0 \\n\")\n",
    "    filename.write(\"Tb  core O  shel   1482.300 0.2664   0.00 0.0 30.0  \\n\")\n",
    "    filename.write(\"O   shel O  shel    911.690 0.2707  13.80 0.0 30.0  \\n\")\n",
    "    filename.write(\"Ba   core O  shel   3521.60  0.2672   0.00 0.0 30.0 \\n\")\n",
    "    filename.write(\"spring \\n\")\n",
    "    filename.write(\"O   %10.3f \\n\" % item[3])\n",
    "    filename.write(\"output cif perov.cif \\n\")\n",
    "    filename.close()"
   ]
  },
  {
   "cell_type": "code",
   "execution_count": 7,
   "metadata": {
    "collapsed": true
   },
   "outputs": [],
   "source": [
    "qa = np.arange(0.5,1.6,0.1)\n",
    "qb = np.arange(1.5,2.6,0.1)\n",
    "for i in qa:\n",
    "    for j in qb:\n",
    "        cmd = 'gulp < 167-Input-qa-%3.1f-qb-%3.1f.txt > out-qa-%3.1f-qb-%3.1f.txt'% (i,j,i,j)\n",
    "        os.system(cmd)"
   ]
  },
  {
   "cell_type": "code",
   "execution_count": 10,
   "metadata": {
    "collapsed": true
   },
   "outputs": [],
   "source": [
    "!rm energies.dat\n",
    "!for file in out-qa-*; do awk '{if ((/Final energy /) && ($5 == \"eV\")) print $4}' $file | tail -1 >> energies.dat ; done\n",
    "!cp ../../../Cubic/Dispersion/C_0.2/energies_cubic.dat .\n",
    "\n",
    "sg = []\n",
    "cubic = []\n",
    "\n",
    "file = open(\"energies.dat\",\"r\")\n",
    "for line in file.readlines():\n",
    "    sg.append(float(line.split()[0]))\n",
    "file.close()\n",
    "              \n",
    "file = open(\"energies_cubic.dat\",\"r\")\n",
    "for line in file.readlines():\n",
    "    cubic.append(float(line.split()[0]))\n",
    "file.close()\n",
    "\n",
    "diff = []\n",
    "for i, it in enumerate(sg):\n",
    "    diff.append(it/2 - cubic[i]) \n",
    "                 \n",
    "two_d = np.zeros(shape=(11,11))\n",
    "\n",
    "for i in range(11):\n",
    "    for j in range(11):\n",
    "        two_d[i,j] = diff[i*11 + j]"
   ]
  },
  {
   "cell_type": "code",
   "execution_count": 13,
   "metadata": {
    "collapsed": false
   },
   "outputs": [
    {
     "data": {
      "image/png": "[encoded data removed]",
      "text/plain": [
       "<matplotlib.figure.Figure at 0x1127c9a10>"
      ]
     },
     "metadata": {},
     "output_type": "display_data"
    }
   ],
   "source": [
    "fig, ax = plt.subplots(1)\n",
    "\n",
    "# plot just the positive data and save the\n",
    "# color \"mappable\" object returned by ax1.imshow\n",
    "pos = ax.imshow(two_d, cmap='afmhot', interpolation='bilinear', vmin=0, vmax=10)\n",
    "\n",
    "# add the colorbar using the figure's method,\n",
    "# telling which mappable we're talking about and\n",
    "# which axes object it should be near\n",
    "fig.colorbar(pos, ax=ax)\n",
    "ax.set_xlabel('$Q_B (-e)$',size=22)\n",
    "ax.set_ylabel('$Q_A (-e)$',size=22)\n",
    "\n",
    "\n",
    "labelsB = ['0.4', '0.5', '0.7', '0.9', '1.1', '1.3', '1.5']\n",
    "labelsA = ['1.4', '1.5', '1.7', '1.9', '2.1', '2.3', '2.5']\n",
    "\n",
    "ax.set_xticklabels(labelsA)\n",
    "ax.set_yticklabels(labelsB)\n",
    "\n",
    "plt.tight_layout()\n",
    "plt.savefig('Spacegroup_167_energies_C2.png')\n",
    "plt.show()"
   ]
  },
  {
   "cell_type": "code",
   "execution_count": 12,
   "metadata": {
    "collapsed": false
   },
   "outputs": [
    {
     "name": "stdout",
     "output_type": "stream",
     "text": [
      "10.926536135\n",
      "0.569855795\n"
     ]
    }
   ],
   "source": [
    "print max(diff)\n",
    "print min(diff)"
   ]
  },
  {
   "cell_type": "code",
   "execution_count": null,
   "metadata": {
    "collapsed": true
   },
   "outputs": [],
   "source": []
  }
 ],
 "metadata": {
  "kernelspec": {
   "display_name": "Python 2",
   "language": "python",
   "name": "python2"
  },
  "language_info": {
   "codemirror_mode": {
    "name": "ipython",
    "version": 2
   },
   "file_extension": ".py",
   "mimetype": "text/x-python",
   "name": "python",
   "nbconvert_exporter": "python",
   "pygments_lexer": "ipython2",
   "version": "2.7.9"
  }
 },
 "nbformat": 4,
 "nbformat_minor": 0
}
