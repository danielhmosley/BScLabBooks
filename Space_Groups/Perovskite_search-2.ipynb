{
 "cells": [
  {
   "cell_type": "code",
   "execution_count": 15,
   "metadata": {
    "collapsed": false
   },
   "outputs": [],
   "source": [
    "#Get the bit from pymatgen you need and input your own API key\n",
    "#Googled Materials API key\n",
    "from pymatgen import MPRester\n",
    "m = MPRester('F25O1CfynNmcua39')\n",
    "import pymatgen.matproj.rest as rest"
   ]
  },
  {
   "cell_type": "markdown",
   "metadata": {},
   "source": [
    "## Need to do two steps as you can only do a query with either a string (to exploit wildcards), or a dict (to be picky)\n",
    "#### Step one, get all the material IDs of the entries with the formula ABO3 into a list\n",
    "* a\n",
    "* b\n",
    "* c *italics*"
   ]
  },
  {
   "cell_type": "code",
   "execution_count": 16,
   "metadata": {
    "collapsed": true
   },
   "outputs": [],
   "source": [
    "#Set criteria and properties we want to get back\n",
    "criteria = \"**F3\"\n",
    "properties = ['task_id']"
   ]
  },
  {
   "cell_type": "code",
   "execution_count": 17,
   "metadata": {
    "collapsed": false
   },
   "outputs": [],
   "source": [
    "#Query the database\n",
    "data1 = m.query(criteria,properties)"
   ]
  },
  {
   "cell_type": "code",
   "execution_count": 23,
   "metadata": {
    "collapsed": false
   },
   "outputs": [
    {
     "name": "stdout",
     "output_type": "stream",
     "text": [
      "262\n"
     ]
    }
   ],
   "source": [
    "#Create a list of the materials project IDs we're concerned with for step 2\n",
    "ABO3_formulae = []\n",
    "for entry in data1:\n",
    "    ABO3_formulae.append(entry[\"task_id\"])\n",
    "print len(ABO3_formulae)"
   ]
  },
  {
   "cell_type": "markdown",
   "metadata": {},
   "source": [
    "#### Step 2, use the list of IDs as part of the criteria for the next search along with new criteria"
   ]
  },
  {
   "cell_type": "code",
   "execution_count": 24,
   "metadata": {
    "collapsed": false
   },
   "outputs": [],
   "source": [
    "#Set max energy above the hull you want to go to and define which spacegroup numbers can correspond to each structure type\n",
    "max_e_above_hull = 1000\n",
    "other = [221]\n",
    "\n",
    "#Set criteria and properties we want to get back\n",
    "criteria = {\"task_id\":{\"$in\":ABO3_formulae}, \"spacegroup.number\":{\"$in\":other}, \"e_above_hull\": {\"$lt\":max_e_above_hull}}\n",
    "properties = ['pretty_formula','spacegroup','e_above_hull','decomposes_to','icsd_id', 'task_id']"
   ]
  },
  {
   "cell_type": "code",
   "execution_count": 25,
   "metadata": {
    "collapsed": true
   },
   "outputs": [],
   "source": [
    "#Query the database\n",
    "data2 = m.query(criteria,properties)"
   ]
  },
  {
   "cell_type": "code",
   "execution_count": 21,
   "metadata": {
    "collapsed": false
   },
   "outputs": [
    {
     "name": "stdout",
     "output_type": "stream",
     "text": [
      "50\n",
      "KCdF3  mp-10175\n",
      "BaLiF3 mp-10250\n",
      "KAgF3  mp-13819\n",
      "ZnAgF3 mp-14099\n",
      "RbPbF3 mp-21043\n",
      "KMgF3  mp-3448\n",
      "RbCaF3 mp-3654\n",
      "KCaF3  mp-4950\n",
      "RbFeF3 mp-554465\n",
      "RbCuF3 mp-554601\n",
      "TlCuF3 mp-554973\n",
      "KCrF3  mp-555036\n",
      "KMnF3  mp-555123\n",
      "NaVF3  mp-555391\n",
      "RbVF3  mp-556424\n",
      "KCuF3  mp-5566\n",
      "KFeF3  mp-556891\n",
      "KVF3   mp-557257\n",
      "CsFeF3 mp-558694\n",
      "RbMnF3 mp-558749\n",
      "NaMgF3 mp-560399\n",
      "KNiF3  mp-560976\n",
      "KCoF3  mp-561348\n",
      "CsHgF3 mp-561947\n",
      "CsPbF3 mp-5811\n",
      "KZnF3  mp-5878\n",
      "RbCdF3 mp-6951\n",
      "YbRbF3 mp-6952\n",
      "CsCaF3 mp-7104\n",
      "RbHgF3 mp-7482\n",
      "KHgF3  mp-7483\n",
      "EuCsF3 mp-8396\n",
      "CsSrF3 mp-8397\n",
      "YbCsF3 mp-8398\n",
      "CsCdF3 mp-8399\n",
      "CsMgF3 mp-8401\n",
      "RbMgF3 mp-8402\n",
      "RbPdF3 mp-9060\n",
      "KPdF3  mp-9061\n",
      "TlFeF3 mp-998159\n",
      "TlCoF3 mp-998160\n",
      "CsInF3 mp-998322\n",
      "MgAgF3 mp-998358\n",
      "NiAgF3 mp-998365\n",
      "CuAgF3 mp-998414\n",
      "MgTlF3 mp-998739\n",
      "TlZnF3 mp-998745\n",
      "TlNiF3 mp-998761\n",
      "MnTlF3 mp-998762\n",
      "TlPdF3 mp-998786\n"
     ]
    }
   ],
   "source": [
    "#Print results\n",
    "print len(data2)\n",
    "for entry in data2:\n",
    "    print \"{0:6} {1}\".format(entry['pretty_formula'], entry['task_id'])"
   ]
  },
  {
   "cell_type": "code",
   "execution_count": 26,
   "metadata": {
    "collapsed": false
   },
   "outputs": [
    {
     "ename": "AttributeError",
     "evalue": "'module' object has no attribute 'get_structure_by_material_id'",
     "output_type": "error",
     "traceback": [
      "\u001b[0;31m---------------------------------------------------------------------------\u001b[0m",
      "\u001b[0;31mAttributeError\u001b[0m                            Traceback (most recent call last)",
      "\u001b[0;32m<ipython-input-26-9295917383ad>\u001b[0m in \u001b[0;36m<module>\u001b[0;34m()\u001b[0m\n\u001b[0;32m----> 1\u001b[0;31m \u001b[0mrest\u001b[0m\u001b[0;34m.\u001b[0m\u001b[0mget_structure_by_material_id\u001b[0m\u001b[0;34m(\u001b[0m\u001b[0mentry\u001b[0m\u001b[0;34m[\u001b[0m\u001b[0;34m'task_id'\u001b[0m\u001b[0;34m]\u001b[0m\u001b[0;34m)\u001b[0m\u001b[0;34m\u001b[0m\u001b[0m\n\u001b[0m",
      "\u001b[0;31mAttributeError\u001b[0m: 'module' object has no attribute 'get_structure_by_material_id'"
     ]
    }
   ],
   "source": [
    "rest.get_structure_by_material_id(entry['task_id'])"
   ]
  },
  {
   "cell_type": "code",
   "execution_count": null,
   "metadata": {
    "collapsed": true
   },
   "outputs": [],
   "source": []
  },
  {
   "cell_type": "code",
   "execution_count": null,
   "metadata": {
    "collapsed": true
   },
   "outputs": [],
   "source": []
  }
 ],
 "metadata": {
  "kernelspec": {
   "display_name": "Python 2",
   "language": "python",
   "name": "python2"
  },
  "language_info": {
   "codemirror_mode": {
    "name": "ipython",
    "version": 2
   },
   "file_extension": ".py",
   "mimetype": "text/x-python",
   "name": "python",
   "nbconvert_exporter": "python",
   "pygments_lexer": "ipython2",
   "version": "2.7.9"
  }
 },
 "nbformat": 4,
 "nbformat_minor": 0
}
