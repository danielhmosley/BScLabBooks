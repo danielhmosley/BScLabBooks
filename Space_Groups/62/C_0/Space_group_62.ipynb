{
 "cells": [
  {
   "cell_type": "code",
   "execution_count": 1,
   "metadata": {
    "collapsed": true
   },
   "outputs": [],
   "source": [
    "#import \n",
    "%matplotlib inline\n",
    "import matplotlib.pyplot as plt\n",
    "import numpy as np\n",
    "import os"
   ]
  },
  {
   "cell_type": "code",
   "execution_count": 2,
   "metadata": {
    "collapsed": true
   },
   "outputs": [],
   "source": [
    "#Set funcitons and their equations to be used later\n",
    "def charge_on_C(qa,qb):\n",
    "    qc = -(qa+qb)/3\n",
    "    return qc    \n",
    "\n",
    "#Set the function shell charge \n",
    "def shell_charge(qa,qb):\n",
    "    qc = -(qa+qb)/3\n",
    "    qsc = qc - 0.378\n",
    "    return qsc\n",
    "\n",
    "#Set the function of the spring constant\n",
    "def spring(qsc):\n",
    "    ksc = qsc**2/0.078\n",
    "    return ksc\n",
    "\n",
    "\n"
   ]
  },
  {
   "cell_type": "code",
   "execution_count": 3,
   "metadata": {
    "collapsed": false
   },
   "outputs": [
    {
     "data": {
      "text/plain": [
       "array([ 0.5,  0.6,  0.7,  0.8,  0.9,  1. ,  1.1,  1.2,  1.3,  1.4,  1.5])"
      ]
     },
     "execution_count": 3,
     "metadata": {},
     "output_type": "execute_result"
    }
   ],
   "source": [
    "#Set energy values of atom B to go between parameters 1.5->2.5\n",
    "qa = np.arange(0.5,1.6,0.1)\n",
    "qa"
   ]
  },
  {
   "cell_type": "code",
   "execution_count": 4,
   "metadata": {
    "collapsed": false
   },
   "outputs": [
    {
     "data": {
      "text/plain": [
       "array([ 1.5,  1.6,  1.7,  1.8,  1.9,  2. ,  2.1,  2.2,  2.3,  2.4,  2.5])"
      ]
     },
     "execution_count": 4,
     "metadata": {},
     "output_type": "execute_result"
    }
   ],
   "source": [
    "#Set energy values of atom B to go between parameters 1.5->2.5\n",
    "qb = np.arange(1.5,2.6,0.1)\n",
    "qb"
   ]
  },
  {
   "cell_type": "code",
   "execution_count": 5,
   "metadata": {
    "collapsed": true
   },
   "outputs": [],
   "source": [
    "#turn the above data into a list of [qa,qb,qsc,ksc]\n",
    "mylist = []\n",
    "\n",
    "for A in qa:\n",
    "    for B in qb:\n",
    "        qsc = shell_charge(A,B)\n",
    "        ksc = spring(qsc)\n",
    "        \n",
    "        mylist.append([A,B,qsc,ksc])\n",
    "\n",
    "mylist = [item[0:4] for item in mylist]\n",
    "\n"
   ]
  },
  {
   "cell_type": "code",
   "execution_count": 6,
   "metadata": {
    "collapsed": false
   },
   "outputs": [],
   "source": [
    "#Start a new loop so that you can have a single file for each of the variable qa/qb states, \n",
    "#Using \"w\" to write the file\n",
    "#Then fill in each line with the \n",
    "\n",
    "for item in mylist:\n",
    "    filename = open('62-Input-qa-%3.1f-qb-%3.1f.txt' %(item[0],item[1]), 'w')\n",
    "    filename.write(\"opti prop cellonly \\n\")\n",
    "    filename.write(\"cell \\n\")\n",
    "    filename.write(\"6.2235 8.7103 6.1180 90.000 90.000 90.000 \\n\")\n",
    "    filename.write(\"frac \\n\")\n",
    "   \n",
    "    filename.write(\"K   core     0.0420 0.2500 0.4906 \\n\")\n",
    "    filename.write(\"Ca  core     0.0000 0.0000 0.0000  \\n\")\n",
    "#    filename.write(\"Ca  core     0.50000  0.50000  0.50000  \\n\")\n",
    "    \n",
    "\n",
    "#    filename.write(\"K   core     0.25300  0.25000  0.75500 \\n\")    \n",
    "    \n",
    "    filename.write(\"F   core     0.4715 0.2500 0.5812  \\n\")\n",
    "    filename.write(\"F   core     0.2916 0.0404 0.2068  \\n\")\n",
    "#    filename.write(\"F   core     0.25400  -0.00200  -0.01900 \\n\")\n",
    "#    filename.write(\"F   core     0.03200  0.01100  0.25800 \\n\")\n",
    "    \n",
    "    filename.write(\"F   shel     0.4715 0.2500 0.5812  \\n\")\n",
    "    filename.write(\"F   shel     0.2916 0.0404 0.2068  \\n\")\n",
    "\n",
    "\n",
    "    filename.write(\"space \\n\")\n",
    "    filename.write(\"62 \\n\")\n",
    "    filename.write(\"species \\n\")\n",
    "    filename.write(\"K   core %10.1f \\n\" % item[0])\n",
    "    filename.write(\"Ca  core %10.1f \\n\" % (item[1]))\n",
    "    filename.write(\"F   core 0.378 \\n\")\n",
    "    filename.write(\"F   shel %18.12f \\n\" % (item[2]))\n",
    "    filename.write(\"buckingham \\n\")\n",
    "    filename.write(\"K   core K core   2189.190 0.1916   0.00 0.0 10.0 \\n\")\n",
    "    filename.write(\"Ca  core F shel   1482.300 0.2664   0.00 0.0 10.0  \\n\")\n",
    "    filename.write(\"F   shel F shel    911.690 0.2707  13.8 0.0 10.0  \\n\")\n",
    "    filename.write(\"K   core F shel   3521.60  0.2672   0.00 0.0 10.0 \\n\")\n",
    "    filename.write(\"spring \\n\")\n",
    "    filename.write(\"F   %10.3f \\n\" % item[3])\n",
    "    filename.write(\"output cif perov.cif \\n\")\n",
    "    filename.close()"
   ]
  },
  {
   "cell_type": "code",
   "execution_count": 7,
   "metadata": {
    "collapsed": true
   },
   "outputs": [],
   "source": [
    "qa = np.arange(0.5,1.6,0.1)\n",
    "qb = np.arange(1.5,2.6,0.1)\n",
    "for i in qa:\n",
    "    for j in qb:\n",
    "        cmd = 'gulp < 62-Input-qa-%3.1f-qb-%3.1f.txt > out-qa-%3.1f-qb-%3.1f.txt'% (i,j,i,j)\n",
    "        os.system(cmd)"
   ]
  },
  {
   "cell_type": "code",
   "execution_count": 11,
   "metadata": {
    "collapsed": false
   },
   "outputs": [],
   "source": [
    "!rm energies.dat\n",
    "!for file in out-qa-*; do awk '{if ((/Final energy /) && ($5 == \"eV\")) print $4}' $file | tail -1 >> energies.dat ; done\n",
    "!cp ../../Cubic/Dispersion/C_0/energies_cubic.dat .\n",
    "\n",
    "sg = []\n",
    "cubic = []\n",
    "\n",
    "file = open(\"energies.dat\",\"r\")\n",
    "for line in file.readlines():\n",
    "    sg.append(float(line.split()[0]))\n",
    "file.close()\n",
    "              \n",
    "file = open(\"energies_cubic.dat\",\"r\")\n",
    "for line in file.readlines():\n",
    "    cubic.append(float(line.split()[0]))\n",
    "file.close()\n",
    "\n",
    "diff = []\n",
    "for i, it in enumerate(sg):\n",
    "    diff.append(it/4 - cubic[i]) \n",
    "                 \n",
    "two_d = np.zeros(shape=(11,11))\n",
    "\n",
    "for i in range(11):\n",
    "    for j in range(11):\n",
    "        two_d[i,j] = diff[i*11 + j]"
   ]
  },
  {
   "cell_type": "code",
   "execution_count": 27,
   "metadata": {
    "collapsed": false
   },
   "outputs": [
    {
     "data": {
      "image/png": "[encoded data removed]",
      "text/plain": [
       "<matplotlib.figure.Figure at 0x113133810>"
      ]
     },
     "metadata": {},
     "output_type": "display_data"
    }
   ],
   "source": [
    "fig, ax = plt.subplots(1)\n",
    "\n",
    "# plot just the positive data and save the\n",
    "# color \"mappable\" object returned by ax1.imshow\n",
    "pos = ax.imshow(two_d, cmap='afmhot', interpolation='bilinear', vmin=-0.5, vmax=3)\n",
    "\n",
    "# add the colorbar using the figure's method,\n",
    "# telling which mappable we're talking about and\n",
    "# which axes object it should be near\n",
    "fig.colorbar(pos, ax=ax)\n",
    "ax.set_xlabel('$Q_B (-e)$',size=22)\n",
    "ax.set_ylabel('$Q_A (-e)$',size=22)\n",
    "\n",
    "\n",
    "labelsB = ['0.4', '0.5', '0.7', '0.9', '1.1', '1.3', '1.5']\n",
    "labelsA = ['1.4', '1.5', '1.7', '1.9', '2.1', '2.3', '2.5']\n",
    "\n",
    "ax.set_xticklabels(labelsA)\n",
    "ax.set_yticklabels(labelsB)\n",
    "\n",
    "plt.tight_layout()\n",
    "plt.savefig('Spacegroup_62_energies_C0.png')\n",
    "plt.show()"
   ]
  },
  {
   "cell_type": "code",
   "execution_count": 25,
   "metadata": {
    "collapsed": false
   },
   "outputs": [
    {
     "data": {
      "text/plain": [
       "1.1530900100000068"
      ]
     },
     "execution_count": 25,
     "metadata": {},
     "output_type": "execute_result"
    }
   ],
   "source": [
    "max(diff)"
   ]
  },
  {
   "cell_type": "code",
   "execution_count": 26,
   "metadata": {
    "collapsed": false
   },
   "outputs": [
    {
     "data": {
      "text/plain": [
       "-0.3047457300000005"
      ]
     },
     "execution_count": 26,
     "metadata": {},
     "output_type": "execute_result"
    }
   ],
   "source": [
    "min(diff)"
   ]
  },
  {
   "cell_type": "code",
   "execution_count": null,
   "metadata": {
    "collapsed": true
   },
   "outputs": [],
   "source": []
  }
 ],
 "metadata": {
  "kernelspec": {
   "display_name": "Python 2",
   "language": "python",
   "name": "python2"
  },
  "language_info": {
   "codemirror_mode": {
    "name": "ipython",
    "version": 2
   },
   "file_extension": ".py",
   "mimetype": "text/x-python",
   "name": "python",
   "nbconvert_exporter": "python",
   "pygments_lexer": "ipython2",
   "version": "2.7.9"
  }
 },
 "nbformat": 4,
 "nbformat_minor": 0
}
